{
 "cells": [
  {
   "cell_type": "code",
   "execution_count": 1,
   "metadata": {},
   "outputs": [
    {
     "name": "stdout",
     "output_type": "stream",
     "text": [
      "0.0\n"
     ]
    }
   ],
   "source": [
    "import numpy as np\n",
    "import SharedArray as sa\n",
    "\n",
    "# Create an array in shared memory.\n",
    "#a = sa.create(\"shm://test\", 10)\n",
    "#sa.delete(\"file://test\")\n",
    "#a = sa.create(\"file://test\", 10)\n",
    "\n",
    "# Attach it as a different array. This can be done from another\n",
    "# python interpreter as long as it runs on the same computer.\n",
    "#b = sa.attach(\"shm://test\")\n",
    "b = sa.attach(\"file://test\")\n",
    "\n",
    "# See how they are actually sharing the same memory.\n",
    "#a[0] = 42\n",
    "print(b[0])\n",
    "\n",
    "# Destroying a does not affect b.\n",
    "#del a\n",
    "#print(b[0])\n",
    "\n",
    "# See how \"test\" is still present in shared memory even though we\n",
    "# destroyed the array a. This method only works on Linux.\n",
    "#sa.list()\n",
    "\n",
    "# Now destroy the array \"test\" from memory.\n",
    "#sa.delete(\"file://test\")\n",
    "\n",
    "# The array b is still there, but once you destroy it then the\n",
    "# data is gone for real.\n",
    "#print(b[0])"
   ]
  },
  {
   "cell_type": "code",
   "execution_count": null,
   "metadata": {
    "collapsed": true
   },
   "outputs": [],
   "source": []
  },
  {
   "cell_type": "code",
   "execution_count": null,
   "metadata": {
    "collapsed": true
   },
   "outputs": [],
   "source": []
  }
 ],
 "metadata": {
  "kernelspec": {
   "display_name": "Python 3",
   "language": "python",
   "name": "python3"
  },
  "language_info": {
   "codemirror_mode": {
    "name": "ipython",
    "version": 3
   },
   "file_extension": ".py",
   "mimetype": "text/x-python",
   "name": "python",
   "nbconvert_exporter": "python",
   "pygments_lexer": "ipython3",
   "version": "3.6.3"
  }
 },
 "nbformat": 4,
 "nbformat_minor": 2
}
